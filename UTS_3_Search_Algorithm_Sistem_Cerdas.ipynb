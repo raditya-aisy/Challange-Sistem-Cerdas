{
  "nbformat": 4,
  "nbformat_minor": 0,
  "metadata": {
    "colab": {
      "provenance": [],
      "authorship_tag": "ABX9TyPmT7eFn4SoFxWjzsqlpxyk",
      "include_colab_link": true
    },
    "kernelspec": {
      "name": "python3",
      "display_name": "Python 3"
    },
    "language_info": {
      "name": "python"
    }
  },
  "cells": [
    {
      "cell_type": "markdown",
      "metadata": {
        "id": "view-in-github",
        "colab_type": "text"
      },
      "source": [
        "<a href=\"https://colab.research.google.com/github/raditya-aisy/Challange-Sistem-Cerdas/blob/main/UTS_3_Search_Algorithm_Sistem_Cerdas.ipynb\" target=\"_parent\"><img src=\"https://colab.research.google.com/assets/colab-badge.svg\" alt=\"Open In Colab\"/></a>"
      ]
    },
    {
      "cell_type": "markdown",
      "source": [
        "# Metode Breadth First Search"
      ],
      "metadata": {
        "id": "TxhdFsebTeJF"
      }
    },
    {
      "cell_type": "code",
      "source": [
        "from collections import deque\n",
        "\n",
        "# Mendefinisikan graph berdasarkan diagram yang diberikan\n",
        "graph = {\n",
        "    \"J\": [\"#ABC\"],\n",
        "    \"#ABC\": [\"#12\",\"#13\"],\n",
        "    \"#13\": [\"#9\", \"#11\"],\n",
        "    \"#12\": [\"#11\", \"#9\"],\n",
        "    \"#11\": [\"#8\"],\n",
        "    \"#9\": [\"#4\",\"#11\"],\n",
        "    \"#8\": [\"#7\"],\n",
        "    \"#4\": [\"#1\", \"#2\"],\n",
        "    \"#1\": [\"#5\"],\n",
        "    \"#2\": [\"#3\"],\n",
        "    \"#5\": [\"#2\"],\n",
        "    \"#3\": [\"#6\"],\n",
        "    \"#6\": [\"#7\"]\n",
        "}\n",
        "\n",
        "def bfs_path_with_depth(graph, start, goal):\n",
        "    queue = deque([(start, 0, [start])])  # Simpan node, kedalaman, dan jalur\n",
        "    visited = set()\n",
        "\n",
        "    while queue:\n",
        "        current_node, depth, path = queue.popleft()  # Ambil node, kedalamannya, dan jalur\n",
        "\n",
        "        if current_node == goal:\n",
        "            print(f\"Goal node {current_node} found at depth {depth} with path: {' -> '.join(path)}\")\n",
        "            return path, depth\n",
        "\n",
        "        if current_node not in visited:\n",
        "            visited.add(current_node)\n",
        "            for neighbor in graph.get(current_node, []):\n",
        "                if neighbor not in visited:\n",
        "                    queue.append((neighbor, depth + 1, path + [neighbor]))\n",
        "\n",
        "    print(\"Goal node not found.\")\n",
        "    return None, None\n",
        "\n",
        "# Mencari node #7 mulai dari node J dengan melaporkan kedalaman dan jalur\n",
        "path, depth = bfs_path_with_depth(graph, \"J\", \"#7\")\n"
      ],
      "metadata": {
        "colab": {
          "base_uri": "https://localhost:8080/"
        },
        "id": "4KlvxCU7QpRS",
        "outputId": "ee9f4743-d6e2-4bfa-cf78-2964bdc9f543"
      },
      "execution_count": 8,
      "outputs": [
        {
          "output_type": "stream",
          "name": "stdout",
          "text": [
            "Goal node #7 found at depth 5 with path: J -> #ABC -> #12 -> #11 -> #8 -> #7\n"
          ]
        }
      ]
    },
    {
      "cell_type": "markdown",
      "source": [
        "# Metode Depth First Search"
      ],
      "metadata": {
        "id": "klZf11IOTlHD"
      }
    },
    {
      "cell_type": "code",
      "source": [
        "# Definisi graph berdasarkan diagram yang telah disesuaikan\n",
        "graph = {\n",
        "    \"J\": [\"#ABC\"],\n",
        "    \"#ABC\": [\"#12\",\"#13\"],\n",
        "    \"#13\": [\"#9\", \"#11\"],\n",
        "    \"#12\": [\"#11\", \"#9\"],\n",
        "    \"#11\": [\"#8\"],\n",
        "    \"#9\": [\"#4\",\"#11\"],\n",
        "    \"#8\": [\"#7\"],\n",
        "    \"#4\": [\"#1\", \"#2\"],\n",
        "    \"#1\": [\"#5\"],\n",
        "    \"#5\": [\"#2\"],\n",
        "    \"#2\": [\"#3\"],\n",
        "    \"#3\": [\"#6\"],\n",
        "    \"#6\": [\"#7\"]\n",
        "}\n",
        "\n",
        "def dfs_path_with_depth(graph, start, goal):\n",
        "    stack = [(start, 0, [start])]  # Simpan node, kedalaman, dan jalur\n",
        "    visited = set()\n",
        "    deepest_path = []\n",
        "    max_depth = -1\n",
        "\n",
        "    while stack:\n",
        "        current_node, depth, path = stack.pop()  # Ambil node dari stack\n",
        "\n",
        "        if current_node == goal:\n",
        "            if depth > max_depth:\n",
        "                max_depth = depth\n",
        "                deepest_path = path\n",
        "            continue\n",
        "\n",
        "        if current_node not in visited:\n",
        "            visited.add(current_node)\n",
        "            for neighbor in graph.get(current_node, []):\n",
        "                if neighbor not in visited:\n",
        "                    stack.append((neighbor, depth + 1, path + [neighbor]))\n",
        "\n",
        "    if deepest_path:\n",
        "        print(f\"Deepest path to {goal} found at depth {max_depth} with path: {' -> '.join(deepest_path)}\")\n",
        "        return deepest_path, max_depth\n",
        "    else:\n",
        "        print(\"Goal node not found.\")\n",
        "        return None, None\n",
        "\n",
        "def dfs_path_with_max_depth(graph, start, goal):\n",
        "    stack = [(start, 0, [start])]  # Simpan node, kedalaman, dan jalur\n",
        "    visited = set([start])\n",
        "    deepest_path = []\n",
        "    max_depth = -1\n",
        "\n",
        "    while stack:\n",
        "        current_node, depth, path = stack.pop()  # Ambil node dari stack\n",
        "\n",
        "        if current_node == goal and depth > max_depth:\n",
        "            max_depth = depth\n",
        "            deepest_path = path\n",
        "\n",
        "        # Periksa tetangga\n",
        "        for neighbor in graph.get(current_node, []):\n",
        "            # Kunjungi ulang jika jalur itu memberikan kedalaman yang lebih besar atau belum dikunjungi\n",
        "            if neighbor not in visited or (path + [neighbor]).count(neighbor) < 2:\n",
        "                stack.append((neighbor, depth + 1, path + [neighbor]))\n",
        "                visited.add(neighbor)\n",
        "\n",
        "    if deepest_path:\n",
        "        print(f\"Deepest path to {goal} found at depth {max_depth} with path: {' -> '.join(deepest_path)}\")\n",
        "        return deepest_path, max_depth\n",
        "    else:\n",
        "        print(\"Goal node not found.\")\n",
        "        return None, None\n",
        "\n",
        "# Mencari node #7 mulai dari node J menggunakan DFS yang dimodifikasi dan melaporkan kedalaman serta jalur terdalam\n",
        "path, depth = dfs_path_with_max_depth(graph, \"J\", \"#7\")\n"
      ],
      "metadata": {
        "colab": {
          "base_uri": "https://localhost:8080/"
        },
        "id": "sBy0emHcTmDT",
        "outputId": "4f0fed32-74a0-4a4c-e1be-7e86be1e4dc1"
      },
      "execution_count": 12,
      "outputs": [
        {
          "output_type": "stream",
          "name": "stdout",
          "text": [
            "Deepest path to #7 found at depth 10 with path: J -> #ABC -> #13 -> #9 -> #4 -> #1 -> #5 -> #2 -> #3 -> #6 -> #7\n"
          ]
        }
      ]
    }
  ]
}